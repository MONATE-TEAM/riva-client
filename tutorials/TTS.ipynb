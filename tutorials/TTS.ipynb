{
 "cells": [
  {
   "cell_type": "markdown",
   "id": "c97d9d54",
   "metadata": {},
   "source": [
    "# TTS API tutorial\n",
    "\n",
    "This tutorial demonstates how to use Python Riva API.\n",
    "\n",
    "## <font color=\"blue\">Server</font>\n",
    "\n",
    "Before running client part of Riva, please set up a server. The simplest\n",
    "way to do this is to follow\n",
    "[quick start guide](https://docs.nvidia.com/deeplearning/riva/user-guide/docs/quick-start-guide.html#local-deployment-using-quick-start-scripts).\n",
    "\n",
    "\n",
    "## <font color=\"blue\">Authentication</font>\n",
    "\n",
    "Before using Riva services you will need to establish connection with a server."
   ]
  },
  {
   "cell_type": "code",
   "execution_count": null,
   "id": "bd57f561",
   "metadata": {
    "execution": {
     "iopub.execute_input": "2022-06-17T13:38:16.262847Z",
     "iopub.status.busy": "2022-06-17T13:38:16.262847Z",
     "iopub.status.idle": "2022-06-17T13:38:16.369847Z",
     "shell.execute_reply": "2022-06-17T13:38:16.369847Z"
    }
   },
   "outputs": [],
   "source": [
    "import riva_api\n",
    "\n",
    "uri = \"localhost:50051\"  # Default value\n",
    "\n",
    "auth = riva_api.Auth(uri=uri)"
   ]
  },
  {
   "cell_type": "markdown",
   "id": "c5319eae",
   "metadata": {},
   "source": [
    "## <font color=\"blue\">Setting up service</font>\n",
    "\n",
    "To instantiate a service pass `riva_api.Auth` instance to a constructor."
   ]
  },
  {
   "cell_type": "code",
   "execution_count": null,
   "id": "fb75ba38",
   "metadata": {
    "execution": {
     "iopub.execute_input": "2022-06-17T13:38:16.372848Z",
     "iopub.status.busy": "2022-06-17T13:38:16.372848Z",
     "iopub.status.idle": "2022-06-17T13:38:16.384847Z",
     "shell.execute_reply": "2022-06-17T13:38:16.384847Z"
    }
   },
   "outputs": [],
   "source": [
    "tts_service = riva_api.SpeechSynthesisService(auth)"
   ]
  },
  {
   "cell_type": "markdown",
   "id": "bd4f6a1c",
   "metadata": {},
   "source": [
    "## <font color=\"blue\">Offline synthesis</font>\n",
    "\n",
    "In offline mode a result is returned in one response."
   ]
  },
  {
   "cell_type": "code",
   "execution_count": null,
   "id": "eaadb63f",
   "metadata": {
    "execution": {
     "iopub.execute_input": "2022-06-17T13:38:16.387847Z",
     "iopub.status.busy": "2022-06-17T13:38:16.387847Z",
     "iopub.status.idle": "2022-06-17T13:38:16.400847Z",
     "shell.execute_reply": "2022-06-17T13:38:16.400847Z"
    }
   },
   "outputs": [],
   "source": [
    "language_code = 'en-US'\n",
    "sample_rate_hz = 16000\n",
    "voice = \"English-US-Female-1\"\n",
    "nchannels = 1\n",
    "sampwidth = 2\n",
    "text = (\n",
    "    \"The United States of America, commonly known as the United States or America, \"\n",
    "    \"is a country primarily located in North America. It consists of 50 states, \"\n",
    "    \"a federal district, five major unincorporated territories, 326 Indian reservations, \"\n",
    "    \"and nine minor outlying islands.\"\n",
    ")"
   ]
  },
  {
   "cell_type": "code",
   "execution_count": null,
   "id": "94e0e2c7",
   "metadata": {
    "execution": {
     "iopub.execute_input": "2022-06-17T13:38:16.403849Z",
     "iopub.status.busy": "2022-06-17T13:38:16.402847Z",
     "iopub.status.idle": "2022-06-17T13:38:20.196962Z",
     "shell.execute_reply": "2022-06-17T13:38:20.194974Z"
    }
   },
   "outputs": [],
   "source": [
    "resp = tts_service.synthesize(text, voice, language_code, sample_rate_hz=sample_rate_hz)"
   ]
  },
  {
   "cell_type": "code",
   "execution_count": null,
   "id": "59aecdc6",
   "metadata": {
    "execution": {
     "iopub.execute_input": "2022-06-17T13:38:20.203008Z",
     "iopub.status.busy": "2022-06-17T13:38:20.203008Z",
     "iopub.status.idle": "2022-06-17T13:38:20.212005Z",
     "shell.execute_reply": "2022-06-17T13:38:20.211008Z"
    }
   },
   "outputs": [],
   "source": [
    "audio = resp.audio\n",
    "meta = resp.meta"
   ]
  },
  {
   "cell_type": "code",
   "execution_count": null,
   "id": "d8ecf5e7",
   "metadata": {
    "execution": {
     "iopub.execute_input": "2022-06-17T13:38:20.218008Z",
     "iopub.status.busy": "2022-06-17T13:38:20.218008Z",
     "iopub.status.idle": "2022-06-17T13:38:20.244641Z",
     "shell.execute_reply": "2022-06-17T13:38:20.240872Z"
    }
   },
   "outputs": [],
   "source": [
    "print(len(audio))"
   ]
  },
  {
   "cell_type": "code",
   "execution_count": null,
   "id": "5d83b0ce",
   "metadata": {
    "execution": {
     "iopub.execute_input": "2022-06-17T13:38:20.255642Z",
     "iopub.status.busy": "2022-06-17T13:38:20.254642Z",
     "iopub.status.idle": "2022-06-17T13:38:20.273975Z",
     "shell.execute_reply": "2022-06-17T13:38:20.272164Z"
    }
   },
   "outputs": [],
   "source": [
    "processed_text = meta.processed_text\n",
    "predicted_durations = meta.predicted_durations"
   ]
  },
  {
   "cell_type": "code",
   "execution_count": null,
   "id": "4f1e9173",
   "metadata": {
    "execution": {
     "iopub.execute_input": "2022-06-17T13:38:20.280023Z",
     "iopub.status.busy": "2022-06-17T13:38:20.279024Z",
     "iopub.status.idle": "2022-06-17T13:38:20.288008Z",
     "shell.execute_reply": "2022-06-17T13:38:20.288008Z"
    }
   },
   "outputs": [],
   "source": [
    "print(processed_text)"
   ]
  },
  {
   "cell_type": "code",
   "execution_count": null,
   "id": "81edd1ce",
   "metadata": {
    "execution": {
     "iopub.execute_input": "2022-06-17T13:38:20.291010Z",
     "iopub.status.busy": "2022-06-17T13:38:20.291010Z",
     "iopub.status.idle": "2022-06-17T13:38:20.303887Z",
     "shell.execute_reply": "2022-06-17T13:38:20.303887Z"
    }
   },
   "outputs": [],
   "source": [
    "print(len(predicted_durations))\n",
    "print(predicted_durations[0])"
   ]
  },
  {
   "cell_type": "markdown",
   "id": "31900d07",
   "metadata": {},
   "source": [
    "Now we can write audio to a file."
   ]
  },
  {
   "cell_type": "code",
   "execution_count": null,
   "id": "ded9fb4a",
   "metadata": {
    "execution": {
     "iopub.execute_input": "2022-06-17T13:38:20.306896Z",
     "iopub.status.busy": "2022-06-17T13:38:20.306896Z",
     "iopub.status.idle": "2022-06-17T13:38:20.320410Z",
     "shell.execute_reply": "2022-06-17T13:38:20.319403Z"
    }
   },
   "outputs": [],
   "source": [
    "import wave\n",
    "offline_output_file = \"my_offline_synthesized_speech.wav\"\n",
    "with wave.open(offline_output_file, 'wb') as out_f:\n",
    "    out_f.setnchannels(nchannels)\n",
    "    out_f.setsampwidth(sampwidth)\n",
    "    out_f.setframerate(sample_rate_hz)\n",
    "    out_f.writeframesraw(resp.audio)"
   ]
  },
  {
   "cell_type": "code",
   "execution_count": null,
   "id": "08f864f9",
   "metadata": {
    "execution": {
     "iopub.execute_input": "2022-06-17T13:38:20.322415Z",
     "iopub.status.busy": "2022-06-17T13:38:20.322415Z",
     "iopub.status.idle": "2022-06-17T13:38:20.350859Z",
     "shell.execute_reply": "2022-06-17T13:38:20.350859Z"
    }
   },
   "outputs": [],
   "source": [
    "import IPython\n",
    "IPython.display.Audio(offline_output_file)"
   ]
  },
  {
   "cell_type": "markdown",
   "id": "ade75ad9",
   "metadata": {},
   "source": [
    "## <font color=\"blue\">Streaming synthesis</font>\n",
    "\n",
    "In streaming mode an audio is returned in several responses. Responses are returned as soon as audio chunk is ready."
   ]
  },
  {
   "cell_type": "code",
   "execution_count": null,
   "id": "f3723b2e",
   "metadata": {
    "execution": {
     "iopub.execute_input": "2022-06-17T13:38:20.354884Z",
     "iopub.status.busy": "2022-06-17T13:38:20.353896Z",
     "iopub.status.idle": "2022-06-17T13:38:20.366805Z",
     "shell.execute_reply": "2022-06-17T13:38:20.366805Z"
    }
   },
   "outputs": [],
   "source": [
    "responses = tts_service.synthesize_online(text, voice, language_code, sample_rate_hz=sample_rate_hz)"
   ]
  },
  {
   "cell_type": "code",
   "execution_count": null,
   "id": "e257e237",
   "metadata": {
    "execution": {
     "iopub.execute_input": "2022-06-17T13:38:20.369804Z",
     "iopub.status.busy": "2022-06-17T13:38:20.369804Z",
     "iopub.status.idle": "2022-06-17T13:38:21.066921Z",
     "shell.execute_reply": "2022-06-17T13:38:21.066199Z"
    }
   },
   "outputs": [],
   "source": [
    "streaming_audio = b''\n",
    "for resp in responses:\n",
    "    streaming_audio += resp.audio"
   ]
  },
  {
   "cell_type": "code",
   "execution_count": null,
   "id": "3ff6c2a7",
   "metadata": {
    "execution": {
     "iopub.execute_input": "2022-06-17T13:38:21.069953Z",
     "iopub.status.busy": "2022-06-17T13:38:21.069953Z",
     "iopub.status.idle": "2022-06-17T13:38:21.081918Z",
     "shell.execute_reply": "2022-06-17T13:38:21.081918Z"
    }
   },
   "outputs": [],
   "source": [
    "import wave\n",
    "streaming_output_file = \"my_streaming_synthesized_speech.wav\"\n",
    "with wave.open(streaming_output_file, 'wb') as out_f:\n",
    "    out_f.setnchannels(nchannels)\n",
    "    out_f.setsampwidth(sampwidth)\n",
    "    out_f.setframerate(sample_rate_hz)\n",
    "    out_f.writeframesraw(streaming_audio)"
   ]
  },
  {
   "cell_type": "code",
   "execution_count": null,
   "id": "1ce5bd83",
   "metadata": {
    "execution": {
     "iopub.execute_input": "2022-06-17T13:38:21.084918Z",
     "iopub.status.busy": "2022-06-17T13:38:21.084918Z",
     "iopub.status.idle": "2022-06-17T13:38:21.114154Z",
     "shell.execute_reply": "2022-06-17T13:38:21.113433Z"
    }
   },
   "outputs": [],
   "source": [
    "import IPython\n",
    "IPython.display.Audio(streaming_output_file)"
   ]
  },
  {
   "cell_type": "markdown",
   "id": "72b40e15",
   "metadata": {},
   "source": [
    "## <font color=\"blue\">Audio output</font>\n",
    "\n",
    "For using audio input and output you need to install PyAudio.\n",
    "\n",
    "```bash\n",
    "conda install -c anaconda pyaudio\n",
    "```\n",
    "\n",
    "### <font color=\"green\">Playing audio during synthesis</font>\n",
    "\n",
    "For playing audio during synthesis you will need to pass audio chunks to `riva_api.audio_io.SoundCallBack` as they arrive."
   ]
  },
  {
   "cell_type": "code",
   "execution_count": null,
   "id": "be28c2e6",
   "metadata": {
    "execution": {
     "iopub.execute_input": "2022-06-17T13:38:21.116153Z",
     "iopub.status.busy": "2022-06-17T13:38:21.116153Z",
     "iopub.status.idle": "2022-06-17T13:38:21.486803Z",
     "shell.execute_reply": "2022-06-17T13:38:21.486803Z"
    }
   },
   "outputs": [],
   "source": [
    "import riva_api.audio_io\n",
    "# show available output devices\n",
    "riva_api.audio_io.list_output_devices()"
   ]
  },
  {
   "cell_type": "code",
   "execution_count": null,
   "id": "9097d307",
   "metadata": {
    "execution": {
     "iopub.execute_input": "2022-06-17T13:38:21.490853Z",
     "iopub.status.busy": "2022-06-17T13:38:21.490853Z",
     "iopub.status.idle": "2022-06-17T13:38:40.296915Z",
     "shell.execute_reply": "2022-06-17T13:38:40.295967Z"
    }
   },
   "outputs": [],
   "source": [
    "output_device = None  # use default device\n",
    "sound_stream = riva_api.audio_io.SoundCallBack(\n",
    "    output_device, nchannels=nchannels, sampwidth=sampwidth, framerate=sample_rate_hz\n",
    ")\n",
    "for resp in tts_service.synthesize_online(text, voice, language_code, sample_rate_hz=sample_rate_hz):\n",
    "    sound_stream(resp.audio)"
   ]
  }
 ],
 "metadata": {
  "kernelspec": {
   "display_name": "Python 3 (ipykernel)",
   "language": "python",
   "name": "python3"
  },
  "language_info": {
   "codemirror_mode": {
    "name": "ipython",
    "version": 3
   },
   "file_extension": ".py",
   "mimetype": "text/x-python",
   "name": "python",
   "nbconvert_exporter": "python",
   "pygments_lexer": "ipython3",
   "version": "3.8.13"
  }
 },
 "nbformat": 4,
 "nbformat_minor": 5
}
