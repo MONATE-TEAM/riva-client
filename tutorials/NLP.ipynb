{
 "cells": [
  {
   "cell_type": "markdown",
   "id": "c97d9d54",
   "metadata": {},
   "source": [
    "# NLP API tutorial\n",
    "\n",
    "This tutorial demonstates how to use Python Riva API.\n",
    "\n",
    "## <font color=\"blue\">Server</font>\n",
    "\n",
    "Before running client part of Riva, please set up a server. The simplest\n",
    "way to do this is to follow\n",
    "[quick start guide](https://docs.nvidia.com/deeplearning/riva/user-guide/docs/quick-start-guide.html#local-deployment-using-quick-start-scripts).\n",
    "\n",
    "\n",
    "## <font color=\"blue\">Authentication</font>\n",
    "\n",
    "Before using Riva services you will need to establish connection with a server."
   ]
  },
  {
   "cell_type": "code",
   "execution_count": null,
   "id": "bd57f561",
   "metadata": {},
   "outputs": [],
   "source": [
    "import riva_api\n",
    "\n",
    "uri = \"localhost:50051\"  # Default value\n",
    "\n",
    "auth = riva_api.Auth(uri=uri)"
   ]
  },
  {
   "cell_type": "markdown",
   "id": "c5319eae",
   "metadata": {},
   "source": [
    "## <font color=\"blue\">Setting up service</font>\n",
    "\n",
    "To instantiate a service pass `riva_api.Auth` instance to a constructor."
   ]
  },
  {
   "cell_type": "code",
   "execution_count": null,
   "id": "fb75ba38",
   "metadata": {},
   "outputs": [],
   "source": [
    "nlp_service = riva_api.NLPService(auth)"
   ]
  },
  {
   "cell_type": "markdown",
   "id": "267f4a06",
   "metadata": {},
   "source": [
    "You may find full response field description in [documentation](https://docs.nvidia.com/deeplearning/riva/user-guide/docs/reference/protos/riva_asr.proto.html?highlight=max%20alternatives#riva-proto-riva-asr-proto)."
   ]
  },
  {
   "cell_type": "code",
   "execution_count": null,
   "id": "e01f300b",
   "metadata": {},
   "outputs": [],
   "source": [
    "from riva_api.proto.riva_nlp_pb2 import (\n",
    "    TextClassResponse,\n",
    "    TokenClassResponse,\n",
    "    TextTransformResponse,\n",
    "    NaturalQueryResponse,\n",
    ")"
   ]
  },
  {
   "cell_type": "markdown",
   "id": "8c87b82b",
   "metadata": {},
   "source": [
    "## <font color=\"blue\">Text classification</font>"
   ]
  },
  {
   "cell_type": "code",
   "execution_count": null,
   "id": "539c95f7",
   "metadata": {},
   "outputs": [],
   "source": [
    "queries = [\"A hurricane is approaching Japan.\", \"What is the weather on Wednesday in Moscow?\"]\n",
    "model = \"riva_intent_weather\""
   ]
  },
  {
   "cell_type": "code",
   "execution_count": null,
   "id": "35834e64",
   "metadata": {},
   "outputs": [],
   "source": [
    "response: TextClassResponse = nlp_service.classify_text(queries, model)"
   ]
  },
  {
   "cell_type": "code",
   "execution_count": null,
   "id": "2a9432ae",
   "metadata": {},
   "outputs": [],
   "source": [
    "print(response)"
   ]
  },
  {
   "cell_type": "code",
   "execution_count": null,
   "id": "796cab62",
   "metadata": {},
   "outputs": [],
   "source": [
    "detected_intent = response.results[0].labels[0].class_name"
   ]
  },
  {
   "cell_type": "code",
   "execution_count": null,
   "id": "f13be276",
   "metadata": {},
   "outputs": [],
   "source": [
    "print(detected_intent)"
   ]
  },
  {
   "cell_type": "markdown",
   "id": "3695715e",
   "metadata": {},
   "source": [
    "You may use a function `riva_api.extract_most_probable_text_class_and_confidence()`. The function returns a list of most probable intents and their scores for all queries."
   ]
  },
  {
   "cell_type": "code",
   "execution_count": null,
   "id": "61ecf049",
   "metadata": {},
   "outputs": [],
   "source": [
    "classes, probs = riva_api.extract_most_probable_text_class_and_confidence(response)"
   ]
  },
  {
   "cell_type": "code",
   "execution_count": null,
   "id": "14975bb1",
   "metadata": {},
   "outputs": [],
   "source": [
    "print(classes)\n",
    "print(probs)"
   ]
  },
  {
   "cell_type": "markdown",
   "id": "97e891c8",
   "metadata": {},
   "source": [
    "## <font color=\"blue\">Token classification</font>"
   ]
  },
  {
   "cell_type": "code",
   "execution_count": null,
   "id": "83ba98f3",
   "metadata": {},
   "outputs": [],
   "source": [
    "response: TokenClassResponse = nlp_service.classify_tokens(queries[1], model)"
   ]
  },
  {
   "cell_type": "code",
   "execution_count": null,
   "id": "3ec2e730",
   "metadata": {},
   "outputs": [],
   "source": [
    "print(response)"
   ]
  },
  {
   "cell_type": "code",
   "execution_count": null,
   "id": "16eb717e",
   "metadata": {},
   "outputs": [],
   "source": [
    "token = response.results[0].results[0].token\n",
    "class_name = response.results[0].results[0].label[0].class_name\n",
    "class_score = response.results[0].results[0].label[0].score"
   ]
  },
  {
   "cell_type": "code",
   "execution_count": null,
   "id": "0910b208",
   "metadata": {},
   "outputs": [],
   "source": [
    "print(token, class_name, class_score)"
   ]
  },
  {
   "cell_type": "markdown",
   "id": "ffdd9348",
   "metadata": {},
   "source": [
    "You may use a function `riva_api.extract_most_probable_token_classification_predictions()`. The function returns:\n",
    " - list of tokens lists for all elements of a batch,\n",
    " - list of most probable classes lists for all elements of a batch,\n",
    " - list of most probable classes confidences lits for all elements of a batch,\n",
    " - list of token span starts lists for all elements of a batch,\n",
    " - list of token span ends lists for all elements of a batch."
   ]
  },
  {
   "cell_type": "code",
   "execution_count": null,
   "id": "76532974",
   "metadata": {
    "scrolled": true
   },
   "outputs": [],
   "source": [
    "tokens, class_names, confidences, starts, ends = riva_api.extract_most_probable_token_classification_predictions(response)"
   ]
  },
  {
   "cell_type": "code",
   "execution_count": null,
   "id": "eaead038",
   "metadata": {},
   "outputs": [],
   "source": [
    "print(\"First batch element tokens:\", tokens[0])\n",
    "print(\"First batch element first token class name:\", class_names[0][0])\n",
    "print(confidences)\n",
    "print(starts)\n",
    "print(ends)"
   ]
  },
  {
   "cell_type": "markdown",
   "id": "b9e98246",
   "metadata": {},
   "source": [
    "> Spans do not work properly for batches which contain more than 1 element."
   ]
  },
  {
   "cell_type": "markdown",
   "id": "ef5254e8",
   "metadata": {},
   "source": [
    "## <font color=\"blue\">Punctuation and Capitalization</font>"
   ]
  },
  {
   "cell_type": "code",
   "execution_count": null,
   "id": "1eb7d7a9",
   "metadata": {
    "scrolled": true
   },
   "outputs": [],
   "source": [
    "queries = [\n",
    "    \"by the early 20th century the gar complained more and more about the younger generation\",\n",
    "    \"boa Vista is the capital of the brazilian state of roraima situated on the western bank of \"\n",
    "    \"the branco river the city lies 220 km from brazil's border with venezuela.\",\n",
    "]\n",
    "model_name = \"riva-punctuation-en-US\"\n",
    "response: TextTransformResponse = nlp_service.punctuate_text(queries, model_name)"
   ]
  },
  {
   "cell_type": "code",
   "execution_count": null,
   "id": "edd2361a",
   "metadata": {},
   "outputs": [],
   "source": [
    "print(response)"
   ]
  },
  {
   "cell_type": "code",
   "execution_count": null,
   "id": "3b480ed6",
   "metadata": {},
   "outputs": [],
   "source": [
    "first_query_result = response.text[0]\n",
    "print(first_query_result)"
   ]
  },
  {
   "cell_type": "markdown",
   "id": "7b146f07",
   "metadata": {},
   "source": [
    "## <font color=\"blue\">Question answering</font>"
   ]
  },
  {
   "cell_type": "code",
   "execution_count": null,
   "id": "8a6cce30",
   "metadata": {},
   "outputs": [],
   "source": [
    "query = \"How many gigatons of carbon dioxide was released in 2005?\"\n",
    "context = (\n",
    "    \"In 2010 the Amazon rainforest experienced another severe drought, in some ways more extreme than the \"\n",
    "    \"2005 drought. The affected region was approximate 1,160,000 square miles (3,000,000 km2) of \"\n",
    "    \"rainforest, compared to 734,000 square miles (1,900,000 km2) in 2005. The 2010 drought had three \"\n",
    "    \"epicenters where vegetation died off, whereas in 2005 the drought was focused on the southwestern \"\n",
    "    \"part. The findings were published in the journal Science. In a typical year the Amazon absorbs 1.5 \"\n",
    "    \"gigatons of carbon dioxide; during 2005 instead 5 gigatons were released and in 2010 8 gigatons were \"\n",
    "    \"released.\"\n",
    ")\n",
    "response: NaturalQueryResponse = nlp_service.natural_query(query, context)"
   ]
  },
  {
   "cell_type": "code",
   "execution_count": null,
   "id": "0a65243d",
   "metadata": {},
   "outputs": [],
   "source": [
    "print(response)"
   ]
  },
  {
   "cell_type": "code",
   "execution_count": null,
   "id": "602518ca",
   "metadata": {},
   "outputs": [],
   "source": [
    "answer = response.results[0].answer\n",
    "score = response.results[0].score"
   ]
  },
  {
   "cell_type": "code",
   "execution_count": null,
   "id": "d798d3eb",
   "metadata": {},
   "outputs": [],
   "source": [
    "print(answer)"
   ]
  },
  {
   "cell_type": "code",
   "execution_count": null,
   "id": "198f2b2e",
   "metadata": {},
   "outputs": [],
   "source": [
    "print(score)"
   ]
  }
 ],
 "metadata": {
  "kernelspec": {
   "display_name": "Python 3 (ipykernel)",
   "language": "python",
   "name": "python3"
  },
  "language_info": {
   "codemirror_mode": {
    "name": "ipython",
    "version": 3
   },
   "file_extension": ".py",
   "mimetype": "text/x-python",
   "name": "python",
   "nbconvert_exporter": "python",
   "pygments_lexer": "ipython3",
   "version": "3.8.13"
  }
 },
 "nbformat": 4,
 "nbformat_minor": 5
}
